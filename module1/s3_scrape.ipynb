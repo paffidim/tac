{
 "cells": [
  {
   "cell_type": "markdown",
   "metadata": {},
   "source": [
    "# Scraping: récupération de la page d'accueil du journal Le Soir\n",
    "\n",
    "Dans ce notebook, nous créons un robot qui va ouvrir la page d'accueil du site du journal [Le Soir](https://www.lesoir.be/) et récupérer le titre de tous les articles du jour et les stocker dans un fichier csv."
   ]
  },
  {
   "cell_type": "markdown",
   "metadata": {},
   "source": [
    "## Imports"
   ]
  },
  {
   "cell_type": "code",
   "execution_count": 3,
   "metadata": {},
   "outputs": [],
   "source": [
    "import os\n",
    "import re\n",
    "import time\n",
    "import requests\n",
    "from bs4 import BeautifulSoup\n",
    "import pandas as pd"
   ]
  },
  {
   "cell_type": "markdown",
   "metadata": {},
   "source": [
    "## Récupération de tous les articles de la page d'accueil\n",
    "\n"
   ]
  },
  {
   "cell_type": "code",
   "execution_count": 4,
   "metadata": {},
   "outputs": [],
   "source": [
    "headers = {'User-Agent': 'Mozilla/5.0 (Macintosh; Intel Mac OS X 10_10_1) AppleWebKit/537.36 (KHTML, like Gecko) Chrome/39.0.2171.95 Safari/537.36'}\n",
    "\n",
    "articles = []\n",
    "\n",
    "root_url = f\"https://www.rtbf.be\"\n",
    "response = requests.get(root_url, headers=headers)\n",
    "soup = BeautifulSoup(response.text, 'html.parser')\n",
    "for link in soup.find_all(\"a\", {\"class\":\"stretched-link outline-hidden\"}):\n",
    "    title = link.text.strip()\n",
    "    url = root_url + link.get('href')\n",
    "    articles.append([url, title])"
   ]
  },
  {
   "cell_type": "code",
   "execution_count": 5,
   "metadata": {},
   "outputs": [
    {
     "data": {
      "text/plain": [
       "80"
      ]
     },
     "execution_count": 5,
     "metadata": {},
     "output_type": "execute_result"
    }
   ],
   "source": [
    "# Affichage du nombre d'articles récupérés\n",
    "len(articles)"
   ]
  },
  {
   "cell_type": "code",
   "execution_count": 6,
   "metadata": {},
   "outputs": [
    {
     "data": {
      "text/plain": [
       "[['https://www.rtbf.be/article/france-cedric-jubillar-condamne-a-30-ans-de-reclusion-pour-le-meurtre-de-son-epouse-11618044',\n",
       "  'Cédric Jubillar condamné à 30 ans de réclusion pour le meurtre de son épouse'],\n",
       " ['https://www.rtbf.be/article/que-vaut-un-passeport-belge-aujourd-hui-et-surtout-que-cache-le-prix-du-privilege-de-franchir-les-frontieres-11617767',\n",
       "  'Que vaut un passeport belge aujourd’hui\\xa0? Et surtout, que cache le \"prix\" du privilège de franchir les frontières\\xa0?'],\n",
       " ['https://www.rtbf.be/article/toxicite-des-pesticides-la-societe-scientifique-de-medecine-generaliste-denonce-les-faux-d-alfred-bernard-11617322',\n",
       "  \"Toxicité des pesticides : la Société Scientifique de Médecine Généraliste dénonce le discours d'Alfred Bernard\"],\n",
       " ['https://www.rtbf.be/article/wrc-europe-centrale-six-speciales-au-programme-ce-vendredi-direct-commente-a-8h30-11617632',\n",
       "  'WRC Europe Centrale : duel haletant entre Ogier et Rovanpera, qui revient à 2.4 secondes (direct vidéo à 17h20)'],\n",
       " ['https://www.rtbf.be/article/rencontre-avec-un-magnetiseur-un-metier-qui-sort-de-l-ordinaire-mon-approche-c-est-d-etre-complementaire-de-la-medecine-11617966',\n",
       "  'Rencontre avec un magnétiseur, un métier qui sort de l’ordinaire\\xa0: \"Mon approche, c’est d’être complémentaire de la médecine\"'],\n",
       " ['https://www.rtbf.be/article/tensions-budgetaires-au-sein-du-gouvernement-de-wever-11617810',\n",
       "  'Tensions budgétaires au sein du gouvernement De Wever'],\n",
       " ['https://www.rtbf.be/article/le-bruxellois-frederic-de-gucht-a-ete-elu-nouveau-president-de-l-open-vld-11617939',\n",
       "  \"Le Bruxellois Frédéric De Gucht a été élu nouveau président de l'Open Vld\"],\n",
       " ['https://www.rtbf.be/article/chaos-total-au-tour-de-hollande-plusieurs-voitures-presentes-sur-le-parcours-la-3e-etape-definitivement-arretee-11618002',\n",
       "  'Chaos total au Tour de Hollande\\xa0! Plusieurs voitures présentes sur le parcours, la 3e étape définitivement arrêtée'],\n",
       " ['https://www.rtbf.be/article/les-cinq-plats-preferes-des-belges-tradition-et-frites-au-rendez-vous-11618021',\n",
       "  'Les cinq plats préférés des Belges\\xa0: tradition et frites au rendez-vous'],\n",
       " ['https://www.rtbf.be/article/2000-d-indemnite-pour-un-toit-qu-ils-n-ont-pas-a-payer-notre-enquete-sur-les-logements-de-fonction-des-ministres-11617610',\n",
       "  '2000€ d’indemnité pour un toit qu’ils n’ont pas à payer\\xa0: notre enquête sur les logements de fonction des ministres']]"
      ]
     },
     "execution_count": 6,
     "metadata": {},
     "output_type": "execute_result"
    }
   ],
   "source": [
    "# Affichage des 10 premières entrées\n",
    "articles[:10]"
   ]
  },
  {
   "cell_type": "markdown",
   "metadata": {},
   "source": [
    "## Création d'un dataframe avec les liens et les titres des articles\n"
   ]
  },
  {
   "cell_type": "code",
   "execution_count": 7,
   "metadata": {},
   "outputs": [
    {
     "data": {
      "text/html": [
       "<div>\n",
       "<style scoped>\n",
       "    .dataframe tbody tr th:only-of-type {\n",
       "        vertical-align: middle;\n",
       "    }\n",
       "\n",
       "    .dataframe tbody tr th {\n",
       "        vertical-align: top;\n",
       "    }\n",
       "\n",
       "    .dataframe thead th {\n",
       "        text-align: right;\n",
       "    }\n",
       "</style>\n",
       "<table border=\"1\" class=\"dataframe\">\n",
       "  <thead>\n",
       "    <tr style=\"text-align: right;\">\n",
       "      <th></th>\n",
       "      <th>link</th>\n",
       "      <th>title</th>\n",
       "    </tr>\n",
       "  </thead>\n",
       "  <tbody>\n",
       "    <tr>\n",
       "      <th>0</th>\n",
       "      <td>https://www.rtbf.be/article/france-cedric-jubi...</td>\n",
       "      <td>Cédric Jubillar condamné à 30 ans de réclusion...</td>\n",
       "    </tr>\n",
       "    <tr>\n",
       "      <th>1</th>\n",
       "      <td>https://www.rtbf.be/article/que-vaut-un-passep...</td>\n",
       "      <td>Que vaut un passeport belge aujourd’hui ? Et s...</td>\n",
       "    </tr>\n",
       "    <tr>\n",
       "      <th>2</th>\n",
       "      <td>https://www.rtbf.be/article/toxicite-des-pesti...</td>\n",
       "      <td>Toxicité des pesticides : la Société Scientifi...</td>\n",
       "    </tr>\n",
       "    <tr>\n",
       "      <th>3</th>\n",
       "      <td>https://www.rtbf.be/article/wrc-europe-central...</td>\n",
       "      <td>WRC Europe Centrale : duel haletant entre Ogie...</td>\n",
       "    </tr>\n",
       "    <tr>\n",
       "      <th>4</th>\n",
       "      <td>https://www.rtbf.be/article/rencontre-avec-un-...</td>\n",
       "      <td>Rencontre avec un magnétiseur, un métier qui s...</td>\n",
       "    </tr>\n",
       "    <tr>\n",
       "      <th>...</th>\n",
       "      <td>...</td>\n",
       "      <td>...</td>\n",
       "    </tr>\n",
       "    <tr>\n",
       "      <th>75</th>\n",
       "      <td>https://www.rtbf.behttps://auvio.rtbf.be/media...</td>\n",
       "      <td>Noël en héritage</td>\n",
       "    </tr>\n",
       "    <tr>\n",
       "      <th>76</th>\n",
       "      <td>https://www.rtbf.behttps://auvio.rtbf.be/media...</td>\n",
       "      <td>Feux de l'amour S27</td>\n",
       "    </tr>\n",
       "    <tr>\n",
       "      <th>77</th>\n",
       "      <td>https://www.rtbf.behttps://auvio.rtbf.be/media...</td>\n",
       "      <td>Un parfum de Noël</td>\n",
       "    </tr>\n",
       "    <tr>\n",
       "      <th>78</th>\n",
       "      <td>https://www.rtbf.behttps://auvio.rtbf.be/media...</td>\n",
       "      <td>Coup de foudre glacé</td>\n",
       "    </tr>\n",
       "    <tr>\n",
       "      <th>79</th>\n",
       "      <td>https://www.rtbf.behttps://auvio.rtbf.be/media...</td>\n",
       "      <td>Coup de foudre au gala de Noël</td>\n",
       "    </tr>\n",
       "  </tbody>\n",
       "</table>\n",
       "<p>80 rows × 2 columns</p>\n",
       "</div>"
      ],
      "text/plain": [
       "                                                 link  \\\n",
       "0   https://www.rtbf.be/article/france-cedric-jubi...   \n",
       "1   https://www.rtbf.be/article/que-vaut-un-passep...   \n",
       "2   https://www.rtbf.be/article/toxicite-des-pesti...   \n",
       "3   https://www.rtbf.be/article/wrc-europe-central...   \n",
       "4   https://www.rtbf.be/article/rencontre-avec-un-...   \n",
       "..                                                ...   \n",
       "75  https://www.rtbf.behttps://auvio.rtbf.be/media...   \n",
       "76  https://www.rtbf.behttps://auvio.rtbf.be/media...   \n",
       "77  https://www.rtbf.behttps://auvio.rtbf.be/media...   \n",
       "78  https://www.rtbf.behttps://auvio.rtbf.be/media...   \n",
       "79  https://www.rtbf.behttps://auvio.rtbf.be/media...   \n",
       "\n",
       "                                                title  \n",
       "0   Cédric Jubillar condamné à 30 ans de réclusion...  \n",
       "1   Que vaut un passeport belge aujourd’hui ? Et s...  \n",
       "2   Toxicité des pesticides : la Société Scientifi...  \n",
       "3   WRC Europe Centrale : duel haletant entre Ogie...  \n",
       "4   Rencontre avec un magnétiseur, un métier qui s...  \n",
       "..                                                ...  \n",
       "75                                   Noël en héritage  \n",
       "76                                Feux de l'amour S27  \n",
       "77                                  Un parfum de Noël  \n",
       "78                               Coup de foudre glacé  \n",
       "79                     Coup de foudre au gala de Noël  \n",
       "\n",
       "[80 rows x 2 columns]"
      ]
     },
     "execution_count": 7,
     "metadata": {},
     "output_type": "execute_result"
    }
   ],
   "source": [
    "df = pd.DataFrame(articles, columns=['link', 'title'])\n",
    "df"
   ]
  },
  {
   "cell_type": "code",
   "execution_count": 8,
   "metadata": {},
   "outputs": [],
   "source": [
    "# Sauvegarde du dataframe dans un fichier csv\n",
    "df.to_csv(f\"../data/rtbf_{time.strftime('%Y%m%d')}.csv\", index=False)"
   ]
  },
  {
   "cell_type": "markdown",
   "metadata": {},
   "source": [
    "## Téléchargement d'un article et affichage du texte"
   ]
  },
  {
   "cell_type": "code",
   "execution_count": 9,
   "metadata": {},
   "outputs": [
    {
     "name": "stdout",
     "output_type": "stream",
     "text": [
      "Europe\n",
      "==================================\n",
      "Le peintre-plaquiste de 38 ans a regardé impassible la présidente énoncer la décision, mains serrées sur l'ouverture vitrée du box. Le verdict est conforme aux réquisitions du ministère public.\n",
      "Les avocats de Cédric Jubillar, qui réclamaient l'acquittement, ont annoncé leur intention de faire appel de cette condamnation. Un nouveau procès devrait se tenir en 2026, probablement devant la cour d'appel de Toulouse.\n",
      "Dans la matinée, pour sa dernière prise de parole, l'accusé avait une nouvelle fois assuré n'avoir \" absolument rien fait à Delphine \", infirmière disparue en décembre 2020 dans le sud-ouest de la France, à 33 ans. Son corps n'a jamais été retrouvé.\n",
      "Après quatre semaines de procès, la cour d'assises du Tarn, composée de trois magistrats et de six jurés populaires, a délibéré pendant près de cinq heures, pour répondre à la question : Cédric Jubillar \" est-il coupable d'avoir, dans la nuit du 15 au 16 décembre 2020 à Cagnac-les-Mines donné volontairement la mort à Delphine Aussaguel épouse Jubillar ? \".\n",
      "Mots clés de l'article\n",
      "Copyright ©  2025  RTBF\n"
     ]
    }
   ],
   "source": [
    "# Récupération du premier lien du dataframe\n",
    "article_url = df.iloc[0][0]\n",
    "\n",
    "# Ouverture de la page\n",
    "response = requests.get(article_url, headers=headers)\n",
    "soup = BeautifulSoup(response.content, 'html.parser')\n",
    "# Parsing du contenu\n",
    "title = soup.find(\"h1\").get_text(separator=' ')\n",
    "\n",
    "paragraphs = []\n",
    "for paragraph in soup.find_all(\"p\", attrs={\"class\": None}):\n",
    "    paragraphs.append(paragraph.get_text(separator=' ').strip())\n",
    "\n",
    "content = \"\\n\".join(paragraphs)\n",
    "print(title)\n",
    "print(\"==================================\")\n",
    "print(content)"
   ]
  },
  {
   "cell_type": "markdown",
   "metadata": {},
   "source": [
    "### Nettoyage du texte à l'aide d'expressions régulières"
   ]
  },
  {
   "cell_type": "code",
   "execution_count": 10,
   "metadata": {},
   "outputs": [
    {
     "name": "stdout",
     "output_type": "stream",
     "text": [
      "Le peintre-plaquiste de 38 ans a regardé impassible la présidente énoncer la décision, mains serrées sur l'ouverture vitrée du box. Le verdict est conforme aux réquisitions du ministère public.\n",
      "Les avocats de Cédric Jubillar, qui réclamaient l'acquittement, ont annoncé leur intention de faire appel de cette condamnation. Un nouveau procès devrait se tenir en 2026, probablement devant la cour d'appel de Toulouse.\n",
      "Dans la matinée, pour sa dernière prise de parole, l'accusé avait une nouvelle fois assuré n'avoir \" absolument rien fait à Delphine \", infirmière disparue en décembre 2020 dans le sud-ouest de la France, à 33 ans. Son corps n'a jamais été retrouvé.\n",
      "Après quatre semaines de procès, la cour d'assises du Tarn, composée de trois magistrats et de six jurés populaires, a délibéré pendant près de cinq heures, pour répondre à la question : Cédric Jubillar \" est-il coupable d'avoir, dans la nuit du 15 au 16 décembre 2020 à Cagnac-les-Mines donné volontairement la mort à Delphine Aussaguel épouse Jubillar ? \".\n",
      "Mots clés de l'article\n",
      "Copyright ©  2025  RTBF\n",
      "==================================\n",
      "Le peintre-plaquiste de 38 ans a regardé impassible la présidente énoncer la décision, mains serrées sur l'ouverture vitrée du box. Le verdict est conforme aux réquisitions du ministère public. Les avocats de Cédric Jubillar, qui réclamaient l'acquittement, ont annoncé leur intention de faire appel de cette condamnation. Un nouveau procès devrait se tenir en 2026, probablement devant la cour d'appel de Toulouse. Dans la matinée, pour sa dernière prise de parole, l'accusé avait une nouvelle fois assuré n'avoir \" absolument rien fait à Delphine \", infirmière disparue en décembre 2020 dans le sud-ouest de la France, à 33 ans. Son corps n'a jamais été retrouvé. Après quatre semaines de procès, la cour d'assises du Tarn, composée de trois magistrats et de six jurés populaires, a délibéré pendant près de cinq heures, pour répondre à la question : Cédric Jubillar \" est-il coupable d'avoir, dans la nuit du 15 au 16 décembre 2020 à Cagnac-les-Mines donné volontairement la mort à Delphine Aussaguel épouse Jubillar ? \". Mots clés de l'article Copyright © 2025 RTBF\n"
     ]
    }
   ],
   "source": [
    "# Suppression de tout ce qui se trouve entre parenthèses\n",
    "clean_content = re.sub(\"\\([^\\)]+\\)\", \" \", content)\n",
    "# Suppression des espaces multiples\n",
    "clean_content = re.sub(\"\\s+\", \" \", clean_content)\n",
    "\n",
    "print(content)\n",
    "print(\"==================================\")\n",
    "print(clean_content)\n"
   ]
  },
  {
   "cell_type": "markdown",
   "metadata": {},
   "source": [
    "### Création d'un fichier avec le contenu de l'article\n"
   ]
  },
  {
   "cell_type": "code",
   "execution_count": 12,
   "metadata": {},
   "outputs": [],
   "source": [
    "with open(\"../data/rtbf_example.txt\", \"w\") as writer:\n",
    "    writer.write(f\"{title}\\n\\n{clean_content}\")"
   ]
  },
  {
   "cell_type": "markdown",
   "metadata": {},
   "source": [
    "## Pour en savoir plus"
   ]
  },
  {
   "cell_type": "markdown",
   "metadata": {},
   "source": [
    "- Le web scraping avec Python: https://realpython.com/beautiful-soup-web-scraper-python/\n",
    "- Tutoriel sur les expressions régulières: https://www.w3schools.com/python/python_regex.asp"
   ]
  }
 ],
 "metadata": {
  "kernelspec": {
   "display_name": "tac_venv (3.11.14)",
   "language": "python",
   "name": "python3"
  },
  "language_info": {
   "codemirror_mode": {
    "name": "ipython",
    "version": 3
   },
   "file_extension": ".py",
   "mimetype": "text/x-python",
   "name": "python",
   "nbconvert_exporter": "python",
   "pygments_lexer": "ipython3",
   "version": "3.11.14"
  }
 },
 "nbformat": 4,
 "nbformat_minor": 4
}
