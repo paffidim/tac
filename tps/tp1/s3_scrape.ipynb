{
 "cells": [
  {
   "cell_type": "markdown",
   "metadata": {},
   "source": [
    "# Scraping: récupération de la page d'accueil du journal Le Soir\n",
    "\n",
    "Dans ce notebook, nous créons un robot qui va ouvrir la page d'accueil du site du journal [Le Soir](https://www.lesoir.be/) et récupérer le titre de tous les articles du jour et les stocker dans un fichier csv."
   ]
  },
  {
   "cell_type": "markdown",
   "metadata": {},
   "source": [
    "## Imports"
   ]
  },
  {
   "cell_type": "code",
   "execution_count": 2,
   "metadata": {},
   "outputs": [],
   "source": [
    "import os\n",
    "import re\n",
    "import time\n",
    "import requests\n",
    "from bs4 import BeautifulSoup\n",
    "import pandas as pd"
   ]
  },
  {
   "cell_type": "markdown",
   "metadata": {},
   "source": [
    "## Récupération de tous les articles de la page d'accueil\n",
    "\n"
   ]
  },
  {
   "cell_type": "code",
   "execution_count": 3,
   "metadata": {},
   "outputs": [],
   "source": [
    "headers = {'User-Agent': 'Mozilla/5.0 (Macintosh; Intel Mac OS X 10_10_1) AppleWebKit/537.36 (KHTML, like Gecko) Chrome/39.0.2171.95 Safari/537.36'}\n",
    "\n",
    "articles = []\n",
    "\n",
    "root_url = f\"https://www.rtbf.be\"\n",
    "response = requests.get(root_url, headers=headers)\n",
    "soup = BeautifulSoup(response.text, 'html.parser')\n",
    "for link in soup.find_all(\"a\", {\"class\":\"stretched-link outline-hidden\"}):\n",
    "    title = link.text.strip()\n",
    "    url = root_url + link.get('href')\n",
    "    articles.append([url, title])"
   ]
  },
  {
   "cell_type": "code",
   "execution_count": 4,
   "metadata": {},
   "outputs": [
    {
     "data": {
      "text/plain": [
       "80"
      ]
     },
     "execution_count": 4,
     "metadata": {},
     "output_type": "execute_result"
    }
   ],
   "source": [
    "# Affichage du nombre d'articles récupérés\n",
    "len(articles)"
   ]
  },
  {
   "cell_type": "code",
   "execution_count": 5,
   "metadata": {},
   "outputs": [
    {
     "data": {
      "text/plain": [
       "[['https://www.rtbf.be/article/la-decision-des-decisions-de-lebron-james-un-coup-de-publicite-trompeur-11612545',\n",
       "  'La \"décision des décisions\" de LeBron James\\xa0? Un coup de publicité trompeur'],\n",
       " ['https://www.rtbf.be/article/derriere-les-discours-rassurants-l-europe-inquiete-de-la-situation-politique-en-france-11612383',\n",
       "  'Derrière les discours rassurants, l’Europe inquiète de la situation politique en France'],\n",
       " ['https://www.rtbf.be/article/novak-djokovic-rejoint-zizou-bergs-en-quarts-de-finale-a-shanghai-11612565',\n",
       "  'Novak Djokovic rejoint Zizou Bergs en quarts de finale à Shanghai'],\n",
       " ['https://www.rtbf.be/article/avec-icecube-le-physicien-belge-francis-halzen-etait-a-une-particule-fantome-du-prix-nobel-de-physique-11612432',\n",
       "  'Avec IceCube, le physicien belge Francis Halzen était à une «\\xa0particule fantôme\\xa0» du Prix Nobel de physique'],\n",
       " ['https://www.rtbf.be/article/tadej-pogacar-vainqueur-des-trois-vallees-varesines-grace-a-une-attaque-en-descente-11612473',\n",
       "  'Tadej Pogacar vainqueur des Trois Vallées Varésines… grâce à une attaque en descente'],\n",
       " ['https://www.rtbf.be/article/ikea-du-meuble-en-kit-a-la-crise-sociale-l-epopee-suedoise-entre-innovations-et-remises-en-question-11612232',\n",
       "  'IKEA\\xa0: du meuble en kit à la crise sociale, l’épopée suédoise entre innovations et remises en question'],\n",
       " ['https://www.rtbf.be/article/en-israel-ces-ultra-religieux-prets-a-coloniser-la-bande-de-gaza-le-plan-de-paix-est-une-illusion-11612405',\n",
       "  'En Israël, ces ultra-religieux prêts à coloniser la bande de Gaza\\xa0: \"Le plan de paix est une illusion\"'],\n",
       " ['https://www.rtbf.be/article/bd-la-maison-du-canal-du-simenon-dans-la-campagne-flamande-11612151',\n",
       "  'BD\\xa0: La Maison du Canal, du Simenon dans la campagne flamande'],\n",
       " ['https://www.rtbf.be/article/seneffe-la-fin-possible-du-conflit-chez-alysse-food-deux-delegues-syndicaux-contre-117-emplois-11612547',\n",
       "  'Seneffe\\xa0: la fin possible du conflit chez Alysse Food. Deux délégués syndicaux contre 117 emplois.'],\n",
       " ['https://www.rtbf.be/article/l-arabie-saoudite-tente-t-elle-d-etendre-son-influence-culturelle-a-travers-assassin-s-creed-11612327',\n",
       "  'L\\'Arabie saoudite tente-t-elle d\\'étendre son influence culturelle à travers \"Assassin\\'s Creed\" ?']]"
      ]
     },
     "execution_count": 5,
     "metadata": {},
     "output_type": "execute_result"
    }
   ],
   "source": [
    "# Affichage des 10 premières entrées\n",
    "articles[:10]"
   ]
  },
  {
   "cell_type": "markdown",
   "metadata": {},
   "source": [
    "## Création d'un dataframe avec les liens et les titres des articles\n"
   ]
  },
  {
   "cell_type": "code",
   "execution_count": 6,
   "metadata": {},
   "outputs": [
    {
     "data": {
      "text/html": [
       "<div>\n",
       "<style scoped>\n",
       "    .dataframe tbody tr th:only-of-type {\n",
       "        vertical-align: middle;\n",
       "    }\n",
       "\n",
       "    .dataframe tbody tr th {\n",
       "        vertical-align: top;\n",
       "    }\n",
       "\n",
       "    .dataframe thead th {\n",
       "        text-align: right;\n",
       "    }\n",
       "</style>\n",
       "<table border=\"1\" class=\"dataframe\">\n",
       "  <thead>\n",
       "    <tr style=\"text-align: right;\">\n",
       "      <th></th>\n",
       "      <th>link</th>\n",
       "      <th>title</th>\n",
       "    </tr>\n",
       "  </thead>\n",
       "  <tbody>\n",
       "    <tr>\n",
       "      <th>0</th>\n",
       "      <td>https://www.rtbf.be/article/la-decision-des-de...</td>\n",
       "      <td>La \"décision des décisions\" de LeBron James ? ...</td>\n",
       "    </tr>\n",
       "    <tr>\n",
       "      <th>1</th>\n",
       "      <td>https://www.rtbf.be/article/derriere-les-disco...</td>\n",
       "      <td>Derrière les discours rassurants, l’Europe inq...</td>\n",
       "    </tr>\n",
       "    <tr>\n",
       "      <th>2</th>\n",
       "      <td>https://www.rtbf.be/article/novak-djokovic-rej...</td>\n",
       "      <td>Novak Djokovic rejoint Zizou Bergs en quarts d...</td>\n",
       "    </tr>\n",
       "    <tr>\n",
       "      <th>3</th>\n",
       "      <td>https://www.rtbf.be/article/avec-icecube-le-ph...</td>\n",
       "      <td>Avec IceCube, le physicien belge Francis Halze...</td>\n",
       "    </tr>\n",
       "    <tr>\n",
       "      <th>4</th>\n",
       "      <td>https://www.rtbf.be/article/tadej-pogacar-vain...</td>\n",
       "      <td>Tadej Pogacar vainqueur des Trois Vallées Varé...</td>\n",
       "    </tr>\n",
       "    <tr>\n",
       "      <th>...</th>\n",
       "      <td>...</td>\n",
       "      <td>...</td>\n",
       "    </tr>\n",
       "    <tr>\n",
       "      <th>75</th>\n",
       "      <td>https://www.rtbf.behttps://auvio.rtbf.be/media...</td>\n",
       "      <td>Nos chiens, ces héros</td>\n",
       "    </tr>\n",
       "    <tr>\n",
       "      <th>76</th>\n",
       "      <td>https://www.rtbf.behttps://auvio.rtbf.be/media...</td>\n",
       "      <td>Jardins &amp; Loisirs</td>\n",
       "    </tr>\n",
       "    <tr>\n",
       "      <th>77</th>\n",
       "      <td>https://www.rtbf.behttps://auvio.rtbf.be/media...</td>\n",
       "      <td>Le 13h</td>\n",
       "    </tr>\n",
       "    <tr>\n",
       "      <th>78</th>\n",
       "      <td>https://www.rtbf.behttps://auvio.rtbf.be/media...</td>\n",
       "      <td>Plus belle la vie  S13</td>\n",
       "    </tr>\n",
       "    <tr>\n",
       "      <th>79</th>\n",
       "      <td>https://www.rtbf.behttps://auvio.rtbf.be/media...</td>\n",
       "      <td>Le 8-9</td>\n",
       "    </tr>\n",
       "  </tbody>\n",
       "</table>\n",
       "<p>80 rows × 2 columns</p>\n",
       "</div>"
      ],
      "text/plain": [
       "                                                 link  \\\n",
       "0   https://www.rtbf.be/article/la-decision-des-de...   \n",
       "1   https://www.rtbf.be/article/derriere-les-disco...   \n",
       "2   https://www.rtbf.be/article/novak-djokovic-rej...   \n",
       "3   https://www.rtbf.be/article/avec-icecube-le-ph...   \n",
       "4   https://www.rtbf.be/article/tadej-pogacar-vain...   \n",
       "..                                                ...   \n",
       "75  https://www.rtbf.behttps://auvio.rtbf.be/media...   \n",
       "76  https://www.rtbf.behttps://auvio.rtbf.be/media...   \n",
       "77  https://www.rtbf.behttps://auvio.rtbf.be/media...   \n",
       "78  https://www.rtbf.behttps://auvio.rtbf.be/media...   \n",
       "79  https://www.rtbf.behttps://auvio.rtbf.be/media...   \n",
       "\n",
       "                                                title  \n",
       "0   La \"décision des décisions\" de LeBron James ? ...  \n",
       "1   Derrière les discours rassurants, l’Europe inq...  \n",
       "2   Novak Djokovic rejoint Zizou Bergs en quarts d...  \n",
       "3   Avec IceCube, le physicien belge Francis Halze...  \n",
       "4   Tadej Pogacar vainqueur des Trois Vallées Varé...  \n",
       "..                                                ...  \n",
       "75                              Nos chiens, ces héros  \n",
       "76                                  Jardins & Loisirs  \n",
       "77                                             Le 13h  \n",
       "78                             Plus belle la vie  S13  \n",
       "79                                             Le 8-9  \n",
       "\n",
       "[80 rows x 2 columns]"
      ]
     },
     "execution_count": 6,
     "metadata": {},
     "output_type": "execute_result"
    }
   ],
   "source": [
    "df = pd.DataFrame(articles, columns=['link', 'title'])\n",
    "df"
   ]
  },
  {
   "cell_type": "code",
   "execution_count": 7,
   "metadata": {},
   "outputs": [],
   "source": [
    "# Sauvegarde du dataframe dans un fichier csv\n",
    "df.to_csv(f\"../data/rtbf_{time.strftime('%Y%m%d')}.csv\", index=False)"
   ]
  },
  {
   "cell_type": "markdown",
   "metadata": {},
   "source": [
    "## Téléchargement d'un article et affichage du texte"
   ]
  },
  {
   "cell_type": "code",
   "execution_count": 8,
   "metadata": {},
   "outputs": [
    {
     "name": "stdout",
     "output_type": "stream",
     "text": [
      "La \"décision des décisions\" de LeBron James ? Un coup de publicité trompeur\n",
      "==================================\n",
      "Dans cette fameuse vidéo mise en ligne lundi, le \" King \", âgé de 40 ans, entrait dans le champ et s’asseyait, silencieux, face à un interlocuteur avant qu’apparaisse à l’écran une incrustation \" La deuxième décision, prochainement \".\n",
      "Ce titre faisait le parallèle avec \" The Decision \" (\" La Décision \"), célèbre explication de son départ en 2010 de Cleveland pour Miami, où il a conquis deux de ses quatre titres NBA.\n",
      "D’annonce choc, il s’agissait en fait d’un partenariat entre la star du basket et une célèbre marque de cognac mis en scène dans une nouvelle vidéo de dix secondes.\n",
      "Entre ces deux vidéos, le monde du basket s’est interrogé sur ce que \" LBJ \" allait annoncer tandis que s’envolaient les prix des billets des Los Angeles Lakers, la franchise où il évolue depuis 2018 et avec laquelle il se prépare à une 23e saison en NBA.\n",
      "Selon le site de vente Tickpick, les tarifs pour le dernier match à domicile des Lakers lors de la saison régulière, le 12 avril prochain contre l’Utah Jazz, ont flambé, certains pensant que James allait annoncer que la saison 2025-26 serait sa dernière.\n",
      "Les billets les moins chers disponibles sur la plateforme sont passés de 85 à 445 dollars. Même tendance sur des sites de revente (821 dollars sur SeatGeek, 955 dollars sur Ticketmaster).\n",
      "Mots clés de l'article\n",
      "Copyright ©  2025  RTBF\n"
     ]
    }
   ],
   "source": [
    "# Récupération du premier lien du dataframe\n",
    "article_url = df.iloc[0][0]\n",
    "\n",
    "# Ouverture de la page\n",
    "response = requests.get(article_url, headers=headers)\n",
    "soup = BeautifulSoup(response.content, 'html.parser')\n",
    "# Parsing du contenu\n",
    "title = soup.find(\"h1\").get_text(separator=' ')\n",
    "\n",
    "paragraphs = []\n",
    "for paragraph in soup.find_all(\"p\", attrs={\"class\": None}):\n",
    "    paragraphs.append(paragraph.get_text(separator=' ').strip())\n",
    "\n",
    "content = \"\\n\".join(paragraphs)\n",
    "print(title)\n",
    "print(\"==================================\")\n",
    "print(content)"
   ]
  },
  {
   "cell_type": "markdown",
   "metadata": {},
   "source": [
    "### Nettoyage du texte à l'aide d'expressions régulières"
   ]
  },
  {
   "cell_type": "code",
   "execution_count": 9,
   "metadata": {},
   "outputs": [
    {
     "name": "stdout",
     "output_type": "stream",
     "text": [
      "Dans cette fameuse vidéo mise en ligne lundi, le \" King \", âgé de 40 ans, entrait dans le champ et s’asseyait, silencieux, face à un interlocuteur avant qu’apparaisse à l’écran une incrustation \" La deuxième décision, prochainement \".\n",
      "Ce titre faisait le parallèle avec \" The Decision \" (\" La Décision \"), célèbre explication de son départ en 2010 de Cleveland pour Miami, où il a conquis deux de ses quatre titres NBA.\n",
      "D’annonce choc, il s’agissait en fait d’un partenariat entre la star du basket et une célèbre marque de cognac mis en scène dans une nouvelle vidéo de dix secondes.\n",
      "Entre ces deux vidéos, le monde du basket s’est interrogé sur ce que \" LBJ \" allait annoncer tandis que s’envolaient les prix des billets des Los Angeles Lakers, la franchise où il évolue depuis 2018 et avec laquelle il se prépare à une 23e saison en NBA.\n",
      "Selon le site de vente Tickpick, les tarifs pour le dernier match à domicile des Lakers lors de la saison régulière, le 12 avril prochain contre l’Utah Jazz, ont flambé, certains pensant que James allait annoncer que la saison 2025-26 serait sa dernière.\n",
      "Les billets les moins chers disponibles sur la plateforme sont passés de 85 à 445 dollars. Même tendance sur des sites de revente (821 dollars sur SeatGeek, 955 dollars sur Ticketmaster).\n",
      "Mots clés de l'article\n",
      "Copyright ©  2025  RTBF\n",
      "==================================\n",
      "Dans cette fameuse vidéo mise en ligne lundi, le \" King \", âgé de 40 ans, entrait dans le champ et s’asseyait, silencieux, face à un interlocuteur avant qu’apparaisse à l’écran une incrustation \" La deuxième décision, prochainement \". Ce titre faisait le parallèle avec \" The Decision \" , célèbre explication de son départ en 2010 de Cleveland pour Miami, où il a conquis deux de ses quatre titres NBA. D’annonce choc, il s’agissait en fait d’un partenariat entre la star du basket et une célèbre marque de cognac mis en scène dans une nouvelle vidéo de dix secondes. Entre ces deux vidéos, le monde du basket s’est interrogé sur ce que \" LBJ \" allait annoncer tandis que s’envolaient les prix des billets des Los Angeles Lakers, la franchise où il évolue depuis 2018 et avec laquelle il se prépare à une 23e saison en NBA. Selon le site de vente Tickpick, les tarifs pour le dernier match à domicile des Lakers lors de la saison régulière, le 12 avril prochain contre l’Utah Jazz, ont flambé, certains pensant que James allait annoncer que la saison 2025-26 serait sa dernière. Les billets les moins chers disponibles sur la plateforme sont passés de 85 à 445 dollars. Même tendance sur des sites de revente . Mots clés de l'article Copyright © 2025 RTBF\n"
     ]
    }
   ],
   "source": [
    "# Suppression de tout ce qui se trouve entre parenthèses\n",
    "clean_content = re.sub(\"\\([^\\)]+\\)\", \" \", content)\n",
    "# Suppression des espaces multiples\n",
    "clean_content = re.sub(\"\\s+\", \" \", clean_content)\n",
    "\n",
    "print(content)\n",
    "print(\"==================================\")\n",
    "print(clean_content)\n"
   ]
  },
  {
   "cell_type": "markdown",
   "metadata": {},
   "source": [
    "### Création d'un fichier avec le contenu de l'article\n"
   ]
  },
  {
   "cell_type": "code",
   "execution_count": 10,
   "metadata": {},
   "outputs": [],
   "source": [
    "with open(\"../data/rtbf_example.txt\", \"w\") as writer:\n",
    "    writer.write(f\"{title}\\n\\n{clean_content}\")"
   ]
  },
  {
   "cell_type": "markdown",
   "metadata": {},
   "source": [
    "## Pour en savoir plus"
   ]
  },
  {
   "cell_type": "markdown",
   "metadata": {},
   "source": [
    "- Le web scraping avec Python: https://realpython.com/beautiful-soup-web-scraper-python/\n",
    "- Tutoriel sur les expressions régulières: https://www.w3schools.com/python/python_regex.asp"
   ]
  }
 ],
 "metadata": {
  "kernelspec": {
   "display_name": "tac_venv (3.11.13)",
   "language": "python",
   "name": "python3"
  },
  "language_info": {
   "codemirror_mode": {
    "name": "ipython",
    "version": 3
   },
   "file_extension": ".py",
   "mimetype": "text/x-python",
   "name": "python",
   "nbconvert_exporter": "python",
   "pygments_lexer": "ipython3",
   "version": "3.11.13"
  }
 },
 "nbformat": 4,
 "nbformat_minor": 4
}
