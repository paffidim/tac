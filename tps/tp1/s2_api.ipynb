{
 "cells": [
  {
   "cell_type": "markdown",
   "metadata": {},
   "source": [
    "# APIs: requêtes HTTP"
   ]
  },
  {
   "cell_type": "markdown",
   "metadata": {},
   "source": [
    "## Imports"
   ]
  },
  {
   "cell_type": "code",
   "execution_count": 4,
   "metadata": {},
   "outputs": [],
   "source": [
    "import json\n",
    "import requests"
   ]
  },
  {
   "cell_type": "markdown",
   "metadata": {},
   "source": [
    "## Utiliser [DBpedia](https://www.dbpedia.org/) pour chercher une information"
   ]
  },
  {
   "cell_type": "code",
   "execution_count": 12,
   "metadata": {},
   "outputs": [
    {
     "name": "stdout",
     "output_type": "stream",
     "text": [
      "Belgium\n",
      "Belgium, officially the Kingdom of Belgium, is a country in Northwestern Europe. The country is bordered by the Netherlands to the north, Germany to the east, Luxembourg to the southeast, France to the southwest, and the North Sea to the northwest. It covers an area of 30,528 km2 (11,787 sq mi) and has a population of more than 11.5 million, making it the 22nd most densely populated country in the world and the 6th most densely populated country in Europe, with a density of 376 per square kilometre (970/sq mi). The capital and largest city is Brussels; other major cities are Antwerp, Ghent, Charleroi, Liège, Bruges, Namur, and Leuven. Belgium is a sovereign state and a federal constitutional monarchy with a parliamentary system. Its institutional organization is complex and is structured on both regional and linguistic grounds. It is divided into three highly autonomous regions: the predominately Dutch-speaking Flemish Region (Flanders) in the north, the predominately French-speaking Walloon Region (Wallonia) in the south, and the Brussels-Capital Region. Brussels is the smallest and most densely populated region, as well as the richest region in terms of GDP per capita. Belgium is home to two main linguistic communities: the Flemish Community, which constitutes about 60 percent of the population, and the French Community, which constitutes about 40 percent of the population. A small German-speaking Community, numbering around one percent, exists in the East Cantons. The Brussels-Capital Region is officially bilingual in French and Dutch, although French is the dominant language. Belgium's linguistic diversity and related political conflicts are reflected in its complex system of governance, made up of six different governments. The country as it exists today was established following the 1830 Belgian Revolution, when it seceded from the United Kingdom of the Netherlands, which had incorporated the Southern Netherlands (which comprised most of modern-day Belgium) after the Congress of Vienna in 1815. The name chosen for the new state is derived from the Latin word Belgium, used in Julius Caesar's \"Gallic Wars\", to describe a nearby region in the period around 55 BCE. Belgium is part of an area known as the Low Countries, historically a somewhat larger region than the Benelux group of states, as it also included parts of northern France. Since the Middle Ages, its central location near several major rivers has meant that the area has been relatively prosperous, connected commercially and politically to its bigger neighbours. Belgium has also earned the moniker the \"Battlefield of Europe,\" a reputation reinforced in the 20th century by both world wars. Belgium participated in the Industrial Revolution, and during the course of the 20th century, possessed a number of colonies in Africa. Between 1885 and 1908, the Congo Free State, which was privately owned by King Leopold II of Belgium, was characterized by widespread atrocities and disease, leading to a population decline of millions; amid public outcry in Europe, Belgium annexed the territory as a colony. The Belgian colonial empire gained independence between 1960 and 1962. The second half of the 20th century was marked by rising tensions between the Dutch-speaking and the French-speaking citizens fuelled by differences in language and culture and the unequal economic development of Flanders and Wallonia. This continuing antagonism has led to several far-reaching state reforms, resulting in the transition from a unitary to a federal arrangement between 1970 to 1993. Despite the reforms, tensions between the groups have remained, if not increased; there is significant separatism particularly among the Flemish; controversial language laws exist such as the municipalities with language facilities; and the formation of a coalition government took 18 months following the June 2010 federal election, a world record. Unemployment in Wallonia is more than double that of Flanders, which boomed after the Second World War. Belgium is one of the six founding countries of the European Union, and its capital, Brussels, is also the capital of the European Union itself, hosting the official seats of the European Commission, the Council of the European Union, and the European Council, as well as one of two seats of the European Parliament (the other being Strasbourg). Belgium is also a founding member of the Eurozone, NATO, OECD, and WTO, and a part of the trilateral Benelux Union and the Schengen Area. Brussels also hosts the headquarters of many major international organizations, such as NATO. Belgium is a developed country, with an advanced high-income economy. It has very high standards of living, quality of life, health care, education, and is categorized as \"very high\" on the Human Development Index. It also ranks relatively high on the Global Peace Index.\n"
     ]
    }
   ],
   "source": [
    "# Choose a public API from https://github.com/public-apis/public-apis\n",
    "# - Hirak OCR which does text recognition does not work. ocr.hirak.site/ cannot be reached\n",
    "# - Alt: Language detection. https://languagelayer.com/\n",
    "# - Alt: Statbel https://bestat.statbel.fgov.be/bestat/api/views/\n",
    "# - Alt: https://dbpedia.org/sparql\n",
    "\n",
    "query = \"\"\"\n",
    "SELECT ?label ?abstract WHERE {\n",
    "  dbr:Belgium rdfs:label ?label ;\n",
    "               dbo:abstract ?abstract .\n",
    "  FILTER (lang(?abstract) = 'en')\n",
    "}\n",
    "LIMIT 1\n",
    "\"\"\"\n",
    "\n",
    "\"\"\"Search a fact about Belgium\"\"\"\n",
    "url = \"https://dbpedia.org/sparql\"\n",
    "data = {'query': query, 'format': 'json'}\n",
    "response = requests.get(url, data)\n",
    "json = response.json()\n",
    "for result in json[\"results\"][\"bindings\"]:\n",
    "    print(result[\"label\"][\"value\"])\n",
    "    print(result[\"abstract\"][\"value\"])\n"
   ]
  },
  {
   "cell_type": "markdown",
   "metadata": {},
   "source": [
    "## Pour en savoir plus"
   ]
  },
  {
   "cell_type": "markdown",
   "metadata": {},
   "source": [
    "- Les API Rest: https://towardsdatascience.com/introduction-to-rest-apis-90b5d9676004\n",
    "- La librairie [`requests`](https://requests.readthedocs.io/en/latest/)\n",
    "- Développer une API en Python : https://openclassrooms.com/en/courses/4525361-realisez-un-dashboard-avec-tableau/5774811-creez-une-api-avec-flask"
   ]
  }
 ],
 "metadata": {
  "kernelspec": {
   "display_name": "tac_venv (3.11.14)",
   "language": "python",
   "name": "python3"
  },
  "language_info": {
   "codemirror_mode": {
    "name": "ipython",
    "version": 3
   },
   "file_extension": ".py",
   "mimetype": "text/x-python",
   "name": "python",
   "nbconvert_exporter": "python",
   "pygments_lexer": "ipython3",
   "version": "3.11.14"
  }
 },
 "nbformat": 4,
 "nbformat_minor": 4
}
